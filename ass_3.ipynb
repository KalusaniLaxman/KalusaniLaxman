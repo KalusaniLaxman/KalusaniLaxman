{
  "nbformat": 4,
  "nbformat_minor": 0,
  "metadata": {
    "colab": {
      "provenance": [],
      "toc_visible": true,
      "include_colab_link": true
    },
    "kernelspec": {
      "name": "python3",
      "display_name": "Python 3"
    },
    "language_info": {
      "name": "python"
    }
  },
  "cells": [
    {
      "cell_type": "markdown",
      "metadata": {
        "id": "view-in-github",
        "colab_type": "text"
      },
      "source": [
        "<a href=\"https://colab.research.google.com/github/KalusaniLaxman/KalusaniLaxman/blob/main/ass_3.ipynb\" target=\"_parent\"><img src=\"https://colab.research.google.com/assets/colab-badge.svg\" alt=\"Open In Colab\"/></a>"
      ]
    },
    {
      "cell_type": "code",
      "execution_count": null,
      "metadata": {
        "id": "xr-0kMpmfsh3"
      },
      "outputs": [],
      "source": []
    },
    {
      "cell_type": "markdown",
      "source": [
        "Implement Alpha-Beta Search Tree using Game Strategy:"
      ],
      "metadata": {
        "id": "SZpQLJLhftEi"
      }
    },
    {
      "cell_type": "code",
      "source": [
        "from collections import namedtuple, Counter, defaultdict\n",
        "import random\n",
        "import math\n",
        "import functools\n",
        "cache = functools.lru_cache(10**6)"
      ],
      "metadata": {
        "id": "FqiZ2ZiNf0Nz"
      },
      "execution_count": null,
      "outputs": []
    },
    {
      "cell_type": "code",
      "source": [
        "class Game:\n",
        "  def actions(self, state):\n",
        "    raise NotImplementedError\n",
        "\n",
        "  def result(self, state, action):\n",
        "    raise NotImplementedError\n",
        "\n",
        "  def utility(self, state, player):\n",
        "    raise NotImplemented\n",
        "\n",
        "  def terminal_test(self, state):\n",
        "    return not self.actions(state)"
      ],
      "metadata": {
        "id": "Ck3DgmBohM6E"
      },
      "execution_count": null,
      "outputs": []
    },
    {
      "cell_type": "code",
      "source": [
        "def play_game(game, strategies: dict, verbose=False):\n",
        "  state = game.initial\n",
        "  while not game.is_terminal(state):\n",
        "      player = state.to_move\n",
        "      move = strategies[player](game, state)\n",
        "      state = game.result(state, move)\n",
        "      if verbose:\n",
        "          print('Player', player, 'move:', move)\n",
        "          print(state)\n",
        "  return state"
      ],
      "metadata": {
        "id": "e6lVfj4Nhhhn"
      },
      "execution_count": null,
      "outputs": []
    },
    {
      "cell_type": "markdown",
      "source": [
        "**Part-02: Implementation of Game Strategy Algorithm**\n"
      ],
      "metadata": {
        "id": "8mOVfE-2iEsV"
      }
    },
    {
      "cell_type": "code",
      "source": [
        "def minimax_search(game, state):\n",
        "  player = state.to_move\n",
        "  def max_value(state):\n",
        "    if game.is_terminal(state):\n",
        "        return game.utility(state, player), None\n",
        "    v, move = -infinity, None\n",
        "    for a in game.actions(state):\n",
        "        v2, _ = min_value(game.result(state, a))\n",
        "        if v2 > v:\n",
        "            v, move = v2, a\n",
        "    return v, move\n",
        "  def min_value(state):\n",
        "    if game.is_terminal(state):\n",
        "        return game.utility(state, player), None\n",
        "    v, move = +infinity, None\n",
        "    for a in game.actions(state):\n",
        "        v2, _ = max_value(game.result(state, a))\n",
        "        if v2 < v:\n",
        "            v, move = v2, a\n",
        "    return v, move\n",
        "\n",
        "  return max_value(state)\n",
        "\n",
        "infinity = math.inf\n",
        "\n",
        "\n",
        "\n",
        "\n"
      ],
      "metadata": {
        "id": "EMNrX2nPiRh8"
      },
      "execution_count": null,
      "outputs": []
    },
    {
      "cell_type": "code",
      "source": [
        "def alphabeta_search(game, state):\n",
        "    player = state.to_move\n",
        "\n",
        "    def max_value(state, alpha, beta):\n",
        "        if game.is_terminal(state):\n",
        "            return game.utility(state, player), None\n",
        "        v, move = -infinity, None\n",
        "        for a in game.actions(state):\n",
        "            v2, _ = min_value(game.result(state, a), alpha, beta)\n",
        "            if v2 > v:\n",
        "                v, move = v2, a\n",
        "                alpha = max(alpha, v)\n",
        "            if v >= beta:\n",
        "                return v, move\n",
        "        return v, move\n",
        "    def min_value(state, alpha, beta):\n",
        "        if game.is_terminal(state):\n",
        "            return game.utility(state, player), None\n",
        "        v, move = +infinity, None\n",
        "        for a in game.actions(state):\n",
        "            v2, _ = max_value(game.result(state, a), alpha, beta)\n",
        "            if v2 < v:\n",
        "                v, move = v2, a\n",
        "                beta = min(beta, v)\n",
        "            if v <= alpha:\n",
        "                return v, move\n",
        "        return v, move\n",
        "\n",
        "    return max_value(state, -infinity, +infinity)\n",
        "\n",
        "\n",
        "\n",
        "\n"
      ],
      "metadata": {
        "id": "h-JivxbdutPI"
      },
      "execution_count": null,
      "outputs": []
    },
    {
      "cell_type": "markdown",
      "source": [
        "**Part-03: Implement the Game Strategy using TicTacToe**"
      ],
      "metadata": {
        "id": "YI8rRntFwv28"
      }
    },
    {
      "cell_type": "code",
      "source": [
        "class TicTacToe(Game):\n",
        "  def __init__(self, height=3, width=3, k=3):\n",
        "      self.k = k # k in a row\n",
        "      self.squares = {(x, y) for x in range(width) for y in range(height)}\n",
        "      self.initial = Board(height=height, width=width, to_move='X', utility=0)\n",
        "  def actions(self, board):\n",
        "      return self.squares - set(board)\n",
        "  def result(self, board, square):\n",
        "      player = board.to_move\n",
        "      board = board.new({square: player}, to_move=('O' if player == 'X' else 'X'))\n",
        "      win = k_in_row(board, player, square, self.k)\n",
        "      board.utility = (0 if not win else +1 if player == 'X' else -1)\n",
        "      return board\n",
        "  def utility(self, board, player):\n",
        "      return board.utility if player == 'X' else -board.utility\n",
        "  def terminal_test(self, board):\n",
        "      return board.utility != 0 or len(self.squares) == len(board)\n",
        "  def display(self, board): print(board)\n",
        "  def k_in_row(board, player, square, k):\n",
        "      def in_row(x, y, dx, dy): return 0 if (x, y) not in board or board[x, y] != player else 1 + in_row(x + dx, y + dy, dx, dy)\n",
        "      return any(in_row(*square, dx, dy) + in_row(*square, -dx, -dy)-1>=k\n",
        "      for (dx, dy) in ((0, 1), (1, 0), (1, 1), (1, -1)))\n",
        "\n"
      ],
      "metadata": {
        "id": "Hm8xEOCkwxwl"
      },
      "execution_count": null,
      "outputs": []
    },
    {
      "cell_type": "code",
      "source": [
        "class Board(defaultdict):\n",
        "  empty = '.'\n",
        "  def __init__(self, width=8, height=8, to_move=None, **kwds):\n",
        "      self.__dict__.update(width=width, height=height, to_move=to_move, **kwds)\n",
        "  def new(self, changes: dict, **kwds) -> 'Board':\n",
        "      board = Board(width=self.width, height=self.height, **kwds)\n",
        "      board.update(self)\n",
        "      board.update(changes)\n",
        "      return board\n",
        "  def __missing__(self, loc):\n",
        "      x, y = loc\n",
        "      if 0 <= x < self.width and 0 <= y < self.height:\n",
        "          return self.empty\n",
        "      else:\n",
        "          return KeyError(loc)\n",
        "  def __hash__(self): return hash(tuple(sorted(self.items())))\n",
        "  def __repr__(self):\n",
        "      def row(y): return ' '.join(self[x, y] for x in range(self.width))\n",
        "      return '\\n'.join(map(row, range(self.height))) +  '\\n'\n"
      ],
      "metadata": {
        "id": "m6xbYfwox5hS"
      },
      "execution_count": null,
      "outputs": []
    },
    {
      "cell_type": "code",
      "source": [
        "def random_player(game, state): return random.choice(list(game.actions(state)))\n",
        "def player(search_algorithm):\n",
        "  return lambda game, state: search_algorithm(game, state)[1]"
      ],
      "metadata": {
        "id": "KCdhN2NHyZt_"
      },
      "execution_count": null,
      "outputs": []
    },
    {
      "cell_type": "markdown",
      "source": [
        "**Evaluate the Game Strategy using TicTokToe**"
      ],
      "metadata": {
        "id": "rVsBxjIOyg2-"
      }
    },
    {
      "cell_type": "code",
      "source": [
        "class TicTacToe(Game):\n",
        "  def __init__(self, height=3, width=3, k=3):\n",
        "        self.k = k # k in a row\n",
        "        self.squares = {(x, y) for x in range(width) for y in range(height)}\n",
        "        self.initial = Board(height=height, width=width, to_move='X', utility=0)\n",
        "  def actions(self, board):\n",
        "    return self.squares - set(board)\n",
        "  def result(self, board, square):\n",
        "    player = board.to_move\n",
        "    board = board.new({square: player}, to_move=('O' if player == 'X' else 'X'))\n",
        "    win = k_in_row(board, player, square, self.k)\n",
        "    board.utility = (0 if not win else +1 if player == 'X' else -1)\n",
        "    return board\n",
        "  def utility(self, board, player):\n",
        "    return board.utility if player == 'X' else -board.utility\n",
        "  def terminal_test(self, board):\n",
        "    return board.utility != 0 or len(self.squares) == len(board)\n",
        "  def display(self, board): print(board)\n",
        "  def k_in_row(board, player, square, k):\n",
        "    def in_row(x, y, dx, dy): return 0 if (x, y) not in board or board[x, y] != player else 1 + in_row(x + dx, y + dy, dx, dy)\n",
        "    return any(in_row(*square, dx, dy) + in_row(*square, -dx, -dy)-1>=k\n",
        "    for (dx, dy)in ((0, 1), (1, 0), (1, 1), (1, -1)))\n"
      ],
      "metadata": {
        "id": "-Xu5bKlNztGV"
      },
      "execution_count": null,
      "outputs": []
    }
  ]
}